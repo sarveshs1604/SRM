{
  "nbformat": 4,
  "nbformat_minor": 0,
  "metadata": {
    "colab": {
      "provenance": [],
      "authorship_tag": "ABX9TyOUBlEoVFJrDmqyWvvFGm3Y",
      "include_colab_link": true
    },
    "kernelspec": {
      "name": "python3",
      "display_name": "Python 3"
    },
    "language_info": {
      "name": "python"
    }
  },
  "cells": [
    {
      "cell_type": "markdown",
      "metadata": {
        "id": "view-in-github",
        "colab_type": "text"
      },
      "source": [
        "<a href=\"https://colab.research.google.com/github/sarveshs1604/SRM/blob/main/ml_exp_1.ipynb\" target=\"_parent\"><img src=\"https://colab.research.google.com/assets/colab-badge.svg\" alt=\"Open In Colab\"/></a>"
      ]
    },
    {
      "cell_type": "code",
      "execution_count": null,
      "metadata": {
        "colab": {
          "base_uri": "https://localhost:8080/"
        },
        "id": "INKp__fiFDPZ",
        "outputId": "dff5d9d5-bf71-4dee-bf2f-1f6319067475"
      },
      "outputs": [
        {
          "output_type": "stream",
          "name": "stdout",
          "text": [
            "hello world\n"
          ]
        }
      ],
      "source": [
        "print(\"hello world\")"
      ]
    },
    {
      "cell_type": "code",
      "source": [
        "#addition of 2 number\n",
        "#check a given number is odd or even\n",
        "#check the number is prime or not\n",
        "#largest of 4 numbers\n",
        "#factorial of a numbers\n",
        "#reversing a number\n",
        "#CHECK THE given number is palinrom or not\n",
        "#find the sum of digits of a number\n",
        "#create a multiplication table\n",
        "#simple calculator\n",
        "#print a pattern"
      ],
      "metadata": {
        "id": "xZAiesV3FdpZ"
      },
      "execution_count": null,
      "outputs": []
    },
    {
      "cell_type": "code",
      "source": [
        "a=int(input(\"enter first number\"))\n",
        "b=int(input(\"enter second number\"))\n",
        "print(a+b)\n"
      ],
      "metadata": {
        "colab": {
          "base_uri": "https://localhost:8080/"
        },
        "id": "pTZfVNnSGuxg",
        "outputId": "479499d8-a8d9-447a-f8da-1f583f493c57"
      },
      "execution_count": null,
      "outputs": [
        {
          "output_type": "stream",
          "name": "stdout",
          "text": [
            "enter first number2\n",
            "enter second number45\n",
            "47\n"
          ]
        }
      ]
    },
    {
      "cell_type": "code",
      "source": [
        "a=int(input(\"enter a number\"))\n",
        "if a%2==0:\n",
        "    print(\"number is even\")\n",
        "else:\n",
        "  print(\"number is odd\")"
      ],
      "metadata": {
        "colab": {
          "base_uri": "https://localhost:8080/"
        },
        "id": "QFiXhpd3HI0L",
        "outputId": "7981e7c8-fde7-451c-cdc4-2697c6b1fd2f"
      },
      "execution_count": null,
      "outputs": [
        {
          "output_type": "stream",
          "name": "stdout",
          "text": [
            "enter a number4\n",
            "number is even\n"
          ]
        }
      ]
    },
    {
      "cell_type": "code",
      "source": [
        "a=int(input(\"enter a number\"))\n",
        "b=0\n",
        "for i in range(2,a):\n",
        "  if a%i==0:\n",
        "    b+=1\n",
        "    break\n",
        "if(b==0):\n",
        "  print(\"prime number\")\n",
        "else:\n",
        "  print(\"not a prime number\")"
      ],
      "metadata": {
        "colab": {
          "base_uri": "https://localhost:8080/"
        },
        "id": "F4PFBhDzHhA0",
        "outputId": "7f543fed-e0dd-4890-a6cf-81b57a8e15ea"
      },
      "execution_count": null,
      "outputs": [
        {
          "output_type": "stream",
          "name": "stdout",
          "text": [
            "enter a number12\n",
            "not a prime number\n"
          ]
        }
      ]
    },
    {
      "cell_type": "code",
      "source": [
        "a=int(input(\"enter a number\"))\n",
        "b=int(input(\"enter a number\"))\n",
        "c=int(input(\"enter a number\"))\n",
        "d=int(input(\"enter a number\"))\n",
        "l=[a,b,c,d]\n",
        "print(max(l))\n"
      ],
      "metadata": {
        "colab": {
          "base_uri": "https://localhost:8080/"
        },
        "id": "jyyvPIjvJIhs",
        "outputId": "5e2e491b-a892-4d01-e870-d4b9437ffdec"
      },
      "execution_count": null,
      "outputs": [
        {
          "output_type": "stream",
          "name": "stdout",
          "text": [
            "enter a number3\n",
            "enter a number6\n",
            "enter a number1\n",
            "enter a number124\n",
            "124\n"
          ]
        }
      ]
    },
    {
      "cell_type": "code",
      "source": [
        "b=int(input(\"enter a number\"))\n",
        "c=1\n",
        "for i in range(1,b+1):\n",
        "  c*=i\n",
        "print(c)"
      ],
      "metadata": {
        "colab": {
          "base_uri": "https://localhost:8080/"
        },
        "id": "d_YjPVbeJt1D",
        "outputId": "4bfab7c1-18c1-4ae8-f6fc-7950bb2e0ca6"
      },
      "execution_count": null,
      "outputs": [
        {
          "output_type": "stream",
          "name": "stdout",
          "text": [
            "enter a number5\n",
            "120\n"
          ]
        }
      ]
    },
    {
      "cell_type": "code",
      "source": [
        "a=int(input(\"enter number\"))\n",
        "b=str(a)\n",
        "c=b[::-1]\n",
        "print(int(c))"
      ],
      "metadata": {
        "colab": {
          "base_uri": "https://localhost:8080/"
        },
        "id": "NNi-Lvh4LUyF",
        "outputId": "2c16ebaf-20ea-4854-82d6-d1e1a88df076"
      },
      "execution_count": null,
      "outputs": [
        {
          "output_type": "stream",
          "name": "stdout",
          "text": [
            "enter number1234\n",
            "4321\n"
          ]
        }
      ]
    },
    {
      "cell_type": "code",
      "source": [
        "a=input(\"enter sequence\")\n",
        "b=a[::-1]\n",
        "if b==a:\n",
        "  print(\"palindrome\")\n",
        "else:\n",
        "  print(\"not palindrome\")"
      ],
      "metadata": {
        "colab": {
          "base_uri": "https://localhost:8080/"
        },
        "id": "dFYavodvMb1m",
        "outputId": "2504e0d7-2dc0-47d1-9daf-da0ffe8777cf"
      },
      "execution_count": null,
      "outputs": [
        {
          "output_type": "stream",
          "name": "stdout",
          "text": [
            "enter a numberasdfa\n",
            "not palindrome\n"
          ]
        }
      ]
    },
    {
      "cell_type": "code",
      "source": [
        "a=int(input(\"enter the number\"))\n",
        "q=0\n",
        "b=str(a)\n",
        "for i in range (len(b)):\n",
        "  c=0\n",
        "  c=a%10\n",
        "  a=a//10\n",
        "  q+=c\n",
        "print(q)"
      ],
      "metadata": {
        "colab": {
          "base_uri": "https://localhost:8080/"
        },
        "id": "piWvF-PQNovO",
        "outputId": "8d2577bc-07fe-4101-a1d5-4aaed4c6add6"
      },
      "execution_count": null,
      "outputs": [
        {
          "output_type": "stream",
          "name": "stdout",
          "text": [
            "enter the number56\n",
            "11\n"
          ]
        }
      ]
    },
    {
      "cell_type": "code",
      "source": [
        "a=int(input(\"table value\"))\n",
        "b=int(input(\"enter the number of multi\"))\n",
        "for i in range(1,b+1):\n",
        "  print(a,\"*\",i,\"=\",a*i)\n"
      ],
      "metadata": {
        "colab": {
          "base_uri": "https://localhost:8080/"
        },
        "id": "tLdmEPerQ6V4",
        "outputId": "4da1df58-7056-4bb0-bc81-e4a3519a20f6"
      },
      "execution_count": null,
      "outputs": [
        {
          "output_type": "stream",
          "name": "stdout",
          "text": [
            "table value10\n",
            "enter the number of multi10\n",
            "10 * 1 = 10\n",
            "10 * 2 = 20\n",
            "10 * 3 = 30\n",
            "10 * 4 = 40\n",
            "10 * 5 = 50\n",
            "10 * 6 = 60\n",
            "10 * 7 = 70\n",
            "10 * 8 = 80\n",
            "10 * 9 = 90\n",
            "10 * 10 = 100\n"
          ]
        }
      ]
    },
    {
      "cell_type": "code",
      "source": [
        "a=int(input(\"enter a number\"))\n",
        "b=int(input(\"enter a number\"))\n",
        "d=input(\"enter the symbol\")\n",
        "match(d):\n",
        "  case \"+\":\n",
        "    print(a+b)\n",
        "  case \"-\":\n",
        "    print(a-b)\n",
        "  case \"*\":\n",
        "    print(a*b)\n",
        "  case \"/\":\n",
        "    print(a/b)"
      ],
      "metadata": {
        "colab": {
          "base_uri": "https://localhost:8080/"
        },
        "id": "qe3XRZvvSl02",
        "outputId": "691f7fd6-1143-440f-cf7b-8bce7829e2a5"
      },
      "execution_count": null,
      "outputs": [
        {
          "output_type": "stream",
          "name": "stdout",
          "text": [
            "enter a number12\n",
            "enter a number23\n",
            "enter the symbol+\n",
            "35\n"
          ]
        }
      ]
    },
    {
      "cell_type": "code",
      "source": [
        "for i in range(6):\n",
        "  print(i*\"*\")\n",
        "  print(\"\\n\")"
      ],
      "metadata": {
        "colab": {
          "base_uri": "https://localhost:8080/"
        },
        "id": "6i-boqxvR2X-",
        "outputId": "09cda64b-12f2-405d-eb7b-34f8c3bf0d7d"
      },
      "execution_count": null,
      "outputs": [
        {
          "output_type": "stream",
          "name": "stdout",
          "text": [
            "\n",
            "\n",
            "\n",
            "*\n",
            "\n",
            "\n",
            "**\n",
            "\n",
            "\n",
            "***\n",
            "\n",
            "\n",
            "****\n",
            "\n",
            "\n",
            "*****\n",
            "\n",
            "\n"
          ]
        }
      ]
    }
  ]
}